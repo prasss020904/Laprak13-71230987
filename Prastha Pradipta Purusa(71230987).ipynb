{
 "cells": [
  {
   "cell_type": "code",
   "execution_count": 1,
   "id": "d3a28b3a",
   "metadata": {},
   "outputs": [
    {
     "name": "stdout",
     "output_type": "stream",
     "text": [
      "Masukkan jumlah kategori: 3\n",
      "Masukkan nama kategori: Game\n",
      "Berapa banyak aplikasi di kategori: 2\n",
      "Nama Aplikasi: PUBG\n",
      "Nama Aplikasi: ML\n",
      "Masukkan nama kategori: Online shop\n",
      "Berapa banyak aplikasi di kategori: 2\n",
      "Nama Aplikasi: Tokopedia\n",
      "Nama Aplikasi: Facebook\n",
      "Masukkan nama kategori: Sosmed\n",
      "Berapa banyak aplikasi di kategori: 3\n",
      "Nama Aplikasi: Instagram\n",
      "Nama Aplikasi: X\n",
      "Nama Aplikasi: Facebook\n",
      "Data Aplikasi per Kategori:\n",
      "{'Game': ['PUBG', 'ML'], 'Online shop': ['Tokopedia', 'Facebook'], 'Sosmed': ['Instagram', 'X', 'Facebook']}\n",
      "Aplikasi yang hanya muncul di satu kategori:\n",
      "{'PUBG'}\n",
      "{'ML'}\n",
      "{'Tokopedia'}\n",
      "{'Instagram'}\n",
      "{'X'}\n",
      "Aplikasi yang muncul di dua kategori:\n",
      "{'Facebook'}\n"
     ]
    }
   ],
   "source": [
    "n = int(input(\"Masukkan jumlah kategori: \"))\n",
    "data_aplikasi = {}\n",
    "for i in range(n):\n",
    "    nama_kategori = input(\"Masukkan nama kategori: \")\n",
    "    aplikasi = []\n",
    "    jumlah_aplikasi = int(input(\"Berapa banyak aplikasi di kategori: \"))\n",
    "    for j in range(jumlah_aplikasi):\n",
    "        nama_aplikasi = input(\"Nama Aplikasi: \")\n",
    "        aplikasi.append(nama_aplikasi)\n",
    "    data_aplikasi[nama_kategori] = aplikasi\n",
    "print(\"Data Aplikasi per Kategori:\")\n",
    "print(data_aplikasi)\n",
    "\n",
    "hitung_aplikasi= {}\n",
    "\n",
    "for kategori, aplikasi_list in data_aplikasi.items():\n",
    "    for aplikasi in aplikasi_list:\n",
    "        if aplikasi in hitung_aplikasi:\n",
    "            hitung_aplikasi[aplikasi].add(kategori)\n",
    "        else:\n",
    "            hitung_aplikasi[aplikasi] = {kategori}\n",
    "print(\"Aplikasi yang hanya muncul di satu kategori:\")\n",
    "for aplikasi, kategori_set in hitung_aplikasi.items():\n",
    "    if len(kategori_set) == 1:\n",
    "        print({aplikasi})\n",
    "        \n",
    "if n > 2:\n",
    "    print(\"Aplikasi yang muncul di dua kategori:\")\n",
    "    for aplikasi, kategori in hitung_aplikasi.items():\n",
    "        if len(kategori) == 2:\n",
    "            print({aplikasi})"
   ]
  },
  {
   "cell_type": "code",
   "execution_count": 2,
   "id": "67f3d814",
   "metadata": {},
   "outputs": [
    {
     "name": "stdout",
     "output_type": "stream",
     "text": [
      "Data: ('Prastha', 71230987, 43.5)\n",
      "List menjadi Set: {43.5, 71230987, 'Prastha'}\n",
      "Set menjadi List: [43.5, 71230987, 'Prastha']\n",
      "Tuple menjadi Set: {43.5, 71230987, 'Prastha'}\n",
      "Set menjadi Tuple: (43.5, 71230987, 'Prastha')\n"
     ]
    }
   ],
   "source": [
    "data = \"Prastha\", 71230987, 43.5\n",
    "print(\"Data:\", data)\n",
    "data_list = list(data)\n",
    "data_set_dari_list = set(data_list)\n",
    "data_set = set(data)\n",
    "data_list_dari_set = list(data_set)\n",
    "data_tuple_dari_set = tuple(data_set)\n",
    "print(\"List menjadi Set:\", data_set_dari_list)\n",
    "print(\"Set menjadi List:\", data_list_dari_set)\n",
    "print(\"Tuple menjadi Set:\", data_set)\n",
    "print(\"Set menjadi Tuple:\", data_tuple_dari_set)"
   ]
  },
  {
   "cell_type": "code",
   "execution_count": null,
   "id": "ced9770a",
   "metadata": {},
   "outputs": [],
   "source": [
    "file1 = input(\"Masukkan nama file1: \")\n",
    "file2 = input(\"Masukkan nama file2: \")\n",
    "try:\n",
    "    f1 = open(file1)\n",
    "    bacafile1 = f1.read().lower()\n",
    "    f1.close()\n",
    "    print(bacafile1)\n",
    "except:\n",
    "    print(\"File tidak ditemukan/tidak bisa dibaca\")\n",
    "    bacafile1 = None\n",
    "try:\n",
    "    f2 = open(file2)\n",
    "    bacafile2 = f2.read().lower()\n",
    "    f2.close()\n",
    "    print(bacafile2)\n",
    "except:\n",
    "    print(\"File tidak ditemukan/tidak bisa dibaca\")\n",
    "    bacafile2 = None"
   ]
  }
 ],
 "metadata": {
  "kernelspec": {
   "display_name": "Python 3 (ipykernel)",
   "language": "python",
   "name": "python3"
  },
  "language_info": {
   "codemirror_mode": {
    "name": "ipython",
    "version": 3
   },
   "file_extension": ".py",
   "mimetype": "text/x-python",
   "name": "python",
   "nbconvert_exporter": "python",
   "pygments_lexer": "ipython3",
   "version": "3.11.5"
  }
 },
 "nbformat": 4,
 "nbformat_minor": 5
}
